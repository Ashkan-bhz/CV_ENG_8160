{
  "nbformat": 4,
  "nbformat_minor": 0,
  "metadata": {
    "colab": {
      "provenance": []
    },
    "kernelspec": {
      "name": "python3",
      "display_name": "Python 3"
    },
    "language_info": {
      "name": "python"
    }
  },
  "cells": [
    {
      "cell_type": "code",
      "source": [
        "from google.colab import drive\n",
        "drive.mount('/content/drive')"
      ],
      "metadata": {
        "colab": {
          "base_uri": "https://localhost:8080/"
        },
        "id": "21YraGXIlwe8",
        "outputId": "bb8adefc-c2c8-455b-b424-7b3e222e4479"
      },
      "execution_count": 1,
      "outputs": [
        {
          "output_type": "stream",
          "name": "stdout",
          "text": [
            "Mounted at /content/drive\n"
          ]
        }
      ]
    },
    {
      "cell_type": "code",
      "source": [
        "!ls DATA"
      ],
      "metadata": {
        "colab": {
          "base_uri": "https://localhost:8080/"
        },
        "id": "4fmdI11TEVum",
        "outputId": "cd504730-0aab-4c70-8c48-272c92a38951"
      },
      "execution_count": null,
      "outputs": [
        {
          "output_type": "stream",
          "name": "stdout",
          "text": [
            "incidents.csv\n"
          ]
        }
      ]
    },
    {
      "cell_type": "code",
      "source": [
        "import pandas as pd"
      ],
      "metadata": {
        "id": "jJ64B9CyCGkD"
      },
      "execution_count": 2,
      "outputs": []
    },
    {
      "cell_type": "code",
      "source": [
        "class DataPrep:\n",
        "  def __init__(self,csv_path):\n",
        "    self.csv_path = csv_path\n",
        "    self.df = None\n",
        "\n",
        "  def read_csv(self,**kwargs):\n",
        "    if 'rows' in kwargs.keys():\n",
        "      self.df = pd.read_csv(self.csv_path,nrows=kwargs['rows'])\n",
        "    else:\n",
        "      self.df = pd.read_csv(self.csv_path)\n",
        "    return self\n",
        "\n",
        "  def filter_csv(self,**kwargs):\n",
        "\n",
        "    df_filter =self.df[self.df['type'] == kwargs['type']]\n",
        "\n",
        "    return self\n",
        "\n",
        "class Incidents(DataPrep):\n",
        "  def __init__(self,csv_path):\n",
        "    self.csv_path = csv_path\n",
        "    self.columns = ['eventId', 'uuid', 'type', 'main', 'cross','longitude', 'latitude','start', 'estStop', 'clear']\n",
        "\n",
        "\n",
        "  def format_csv(self):\n",
        "    if not self.df is None:\n",
        "      self.df.columns = self.columns\n",
        "\n"
      ],
      "metadata": {
        "id": "OlJ3-gpjAc8L"
      },
      "execution_count": 31,
      "outputs": []
    },
    {
      "cell_type": "code",
      "source": [
        "obj = Incidents('/content/drive/MyDrive/CV_ENG_8160/Data/incidents.csv')"
      ],
      "metadata": {
        "id": "yRYK4GSbm2bQ"
      },
      "execution_count": 32,
      "outputs": []
    },
    {
      "cell_type": "code",
      "source": [
        "obj.read_csv(rows=50).format_csv()"
      ],
      "metadata": {
        "id": "m7PIWZCtm_JK"
      },
      "execution_count": 33,
      "outputs": []
    },
    {
      "cell_type": "code",
      "source": [
        "obj.filter_csv(type='Roadwork')"
      ],
      "metadata": {
        "id": "IJLQF4Uisv9L",
        "colab": {
          "base_uri": "https://localhost:8080/"
        },
        "outputId": "a6e0817d-dca9-4536-c5a3-1088cb6493fc"
      },
      "execution_count": 34,
      "outputs": [
        {
          "output_type": "execute_result",
          "data": {
            "text/plain": [
              "<__main__.Incidents at 0x7f96ced29300>"
            ]
          },
          "metadata": {},
          "execution_count": 34
        }
      ]
    }
  ]
}