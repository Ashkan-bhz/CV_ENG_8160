{
  "nbformat": 4,
  "nbformat_minor": 0,
  "metadata": {
    "colab": {
      "provenance": [],
      "gpuType": "T4"
    },
    "kernelspec": {
      "name": "python3",
      "display_name": "Python 3"
    },
    "language_info": {
      "name": "python"
    },
    "accelerator": "GPU"
  },
  "cells": [
    {
      "cell_type": "code",
      "execution_count": 16,
      "metadata": {
        "id": "sdlGqsDTJ2Yr"
      },
      "outputs": [],
      "source": [
        "# %cd \"/content/drive/MyDrive/CV_ENG_8160/Notebooks/Module_6\""
      ]
    },
    {
      "cell_type": "markdown",
      "source": [
        "Hour channel added & data splited to train-test"
      ],
      "metadata": {
        "id": "XD3zGGSPKGYA"
      }
    },
    {
      "cell_type": "code",
      "source": [
        "import pandas as pd\n",
        "import random, math\n",
        "import torch\n",
        "import torch.nn as nn\n",
        "import numpy as np\n",
        "import matplotlib.pyplot as plt\n",
        "from sklearn.preprocessing import StandardScaler\n",
        "from scipy import fftpack\n",
        "import torch.utils.data as utils\n",
        "import os\n",
        "from sklearn.metrics import mean_absolute_percentage_error\n",
        "from torch.utils.data import Dataset, DataLoader\n",
        "from tqdm import tqdm\n",
        "from models import MyLSTM, MyGRU"
      ],
      "metadata": {
        "id": "gTFPsxa8KOwn"
      },
      "execution_count": 2,
      "outputs": []
    },
    {
      "cell_type": "code",
      "source": [
        "class TrafficForecast(Dataset):\n",
        "    def __init__(self, pkl_path, window, horizon, train_size=0.8, mode='train'):\n",
        "        self.pkl_path = pkl_path\n",
        "        self.window = window\n",
        "        self.horizon = horizon\n",
        "        self.mode = mode\n",
        "        self.df = None\n",
        "        self.seg_ids = None\n",
        "        self.inputs = []\n",
        "        self.targets = []\n",
        "\n",
        "        df = pd.read_pickle(self.pkl_path)\n",
        "        df['time'] = pd.to_datetime(df['time'])\n",
        "        df['unix_timestamp'] = df['time'].astype(int) / 10**9\n",
        "        df['dow'] = df['time'].dt.weekday\n",
        "        df['hour'] = df['time'].dt.hour\n",
        "        df['min'] = df['time'].dt.minute\n",
        "        self.df = df.sample(frac=1).reset_index(drop=True)\n",
        "\n",
        "        self.seg_ids = self.df['segmentID'].unique()\n",
        "        train_cutoff = int(len(self.seg_ids) * train_size)\n",
        "        self.train_seg_ids = self.seg_ids[:train_cutoff]\n",
        "        self.test_seg_ids = self.seg_ids[train_cutoff:]\n",
        "\n",
        "        if self.mode == 'train':\n",
        "            self.setup_forecast(self.train_seg_ids)\n",
        "        elif self.mode == 'test':\n",
        "            self.setup_forecast(self.test_seg_ids)\n",
        "\n",
        "    def setup_forecast(self, seg_ids):\n",
        "        for segid in seg_ids:\n",
        "            df_seg_id = self.df[self.df['segmentID'] == segid]\n",
        "            df_seg_id = df_seg_id.sort_values(by='time', ascending=True)\n",
        "            df_seg_id = df_seg_id.fillna(method=\"ffill\")\n",
        "            TI_series = df_seg_id['TrafficIndex_GP'].values\n",
        "            h_series = df_seg_id['hour'].values\n",
        "            for t in range(len(TI_series) - (self.window + self.horizon)):\n",
        "                x = TI_series[t:t+self.window]\n",
        "                h = h_series[t:t+self.window]\n",
        "                y = TI_series[t+self.window:(t+self.window + self.horizon)]\n",
        "\n",
        "                x_combined = np.stack((x, h), axis=1)\n",
        "                self.inputs.append(x_combined)\n",
        "                self.targets.append(y)\n",
        "\n",
        "    def __len__(self):\n",
        "        return len(self.inputs)\n",
        "\n",
        "    def __getitem__(self, idx):\n",
        "        X = torch.tensor(self.inputs[idx], dtype=torch.float32)\n",
        "        y = torch.tensor(self.targets[idx], dtype=torch.float32)\n",
        "        return {'inputs': X, 'outputs': y}\n"
      ],
      "metadata": {
        "id": "9nGgEpKGKT1W"
      },
      "execution_count": 3,
      "outputs": []
    },
    {
      "cell_type": "code",
      "source": [
        "tobj_train = TrafficForecast('tps_df.pkl', 36, 36, train_size=0.8, mode='train')\n",
        "\n",
        "tobj_test = TrafficForecast('tps_df.pkl', 36, 36, train_size=0.8, mode='test')"
      ],
      "metadata": {
        "id": "tebm5FMUObFQ"
      },
      "execution_count": 29,
      "outputs": []
    },
    {
      "cell_type": "code",
      "source": [
        "bs = 1024\n",
        "dataloader_train = DataLoader(tobj_train, batch_size=1024, shuffle=False, num_workers=4, drop_last=True)\n",
        "\n",
        "dataloader_test = DataLoader(tobj_test, batch_size=1024, shuffle=False, num_workers=4, drop_last=True)"
      ],
      "metadata": {
        "colab": {
          "base_uri": "https://localhost:8080/"
        },
        "id": "AZecvdHOOUMx",
        "outputId": "caa0925a-c60a-4e93-f80d-70e355d8a26a"
      },
      "execution_count": 30,
      "outputs": [
        {
          "output_type": "stream",
          "name": "stderr",
          "text": [
            "/usr/local/lib/python3.10/dist-packages/torch/utils/data/dataloader.py:557: UserWarning: This DataLoader will create 4 worker processes in total. Our suggested max number of worker in current system is 2, which is smaller than what this DataLoader is going to create. Please be aware that excessive worker creation might get DataLoader running slow or even freeze, lower the worker number to avoid potential slowness/freeze if necessary.\n",
            "  warnings.warn(_create_warning_msg(\n"
          ]
        }
      ]
    },
    {
      "cell_type": "code",
      "source": [
        "for idx, data in enumerate(dataloader_train):\n",
        "    print (data['inputs'].shape,data['outputs'].shape)\n",
        "    if idx == 3:\n",
        "        break"
      ],
      "metadata": {
        "colab": {
          "base_uri": "https://localhost:8080/"
        },
        "id": "vV0bCnU0Oqpv",
        "outputId": "129ce133-657c-44fe-d0a3-4185742e1e5b"
      },
      "execution_count": 6,
      "outputs": [
        {
          "output_type": "stream",
          "name": "stdout",
          "text": [
            "torch.Size([1024, 36, 2]) torch.Size([1024, 36])\n",
            "torch.Size([1024, 36, 2]) torch.Size([1024, 36])\n",
            "torch.Size([1024, 36, 2]) torch.Size([1024, 36])\n",
            "torch.Size([1024, 36, 2]) torch.Size([1024, 36])\n"
          ]
        }
      ]
    },
    {
      "cell_type": "code",
      "source": [
        "device = torch.device(\"cuda:0\" if torch.cuda.is_available() else \"cpu\")"
      ],
      "metadata": {
        "id": "p-plK7dUO0xO"
      },
      "execution_count": 31,
      "outputs": []
    },
    {
      "cell_type": "code",
      "source": [
        "model = MyLSTM(n_inputs=2, n_hidden=10, n_rnnlayers=2, n_outputs=36)\n",
        "model.to(device)\n",
        "criterion = nn.MSELoss()\n",
        "optimizer = torch.optim.Adam(model.parameters(), lr=0.001)"
      ],
      "metadata": {
        "id": "VCZZiUeqO3Lw"
      },
      "execution_count": 32,
      "outputs": []
    },
    {
      "cell_type": "code",
      "source": [
        "n_epochs = 5\n",
        "\n",
        "mean_loss = []\n",
        "mean_test_loss = []\n",
        "\n",
        "for it in tqdm(range(n_epochs)):\n",
        "    losses = []\n",
        "    test_losses = []\n",
        "\n",
        "    model.train()\n",
        "    for i_batch, sample_batched in enumerate(dataloader_train):\n",
        "        optimizer.zero_grad()\n",
        "        outputs = model(sample_batched['inputs'].to(device))\n",
        "        loss = criterion(outputs, sample_batched['outputs'].to(device))\n",
        "        losses.append(loss.item())\n",
        "        loss.backward()\n",
        "        optimizer.step()\n",
        "\n",
        "    epoch_mean_loss = np.mean(losses)\n",
        "    mean_loss.append(epoch_mean_loss)\n",
        "\n",
        "    model.eval()\n",
        "    with torch.no_grad():\n",
        "        for sample_batched in dataloader_test:\n",
        "            outputs = model(sample_batched['inputs'].to(device))\n",
        "            test_loss = criterion(outputs, sample_batched['outputs'].to(device))\n",
        "            test_losses.append(test_loss.item())\n",
        "\n",
        "    epoch_mean_test_loss = np.mean(test_losses)\n",
        "    mean_test_loss.append(epoch_mean_test_loss)\n",
        "\n",
        "    print(f'Epoch {it+1}/{n_epochs}, Training Loss: {epoch_mean_loss:.4f}, Test Loss: {epoch_mean_test_loss:.4f}')\n"
      ],
      "metadata": {
        "colab": {
          "base_uri": "https://localhost:8080/"
        },
        "id": "mgVlSimvQkMX",
        "outputId": "0b61b910-32cb-4050-c57a-33d3073f4259"
      },
      "execution_count": 33,
      "outputs": [
        {
          "output_type": "stream",
          "name": "stderr",
          "text": [
            " 20%|██        | 1/5 [00:30<02:01, 30.39s/it]"
          ]
        },
        {
          "output_type": "stream",
          "name": "stdout",
          "text": [
            "Epoch 1/5, Training Loss: 0.0644, Test Loss: 0.0136\n"
          ]
        },
        {
          "output_type": "stream",
          "name": "stderr",
          "text": [
            "\r 40%|████      | 2/5 [01:02<01:34, 31.53s/it]"
          ]
        },
        {
          "output_type": "stream",
          "name": "stdout",
          "text": [
            "Epoch 2/5, Training Loss: 0.0117, Test Loss: 0.0135\n"
          ]
        },
        {
          "output_type": "stream",
          "name": "stderr",
          "text": [
            "\r 60%|██████    | 3/5 [01:35<01:04, 32.29s/it]"
          ]
        },
        {
          "output_type": "stream",
          "name": "stdout",
          "text": [
            "Epoch 3/5, Training Loss: 0.0116, Test Loss: 0.0134\n"
          ]
        },
        {
          "output_type": "stream",
          "name": "stderr",
          "text": [
            "\r 80%|████████  | 4/5 [02:09<00:32, 32.69s/it]"
          ]
        },
        {
          "output_type": "stream",
          "name": "stdout",
          "text": [
            "Epoch 4/5, Training Loss: 0.0116, Test Loss: 0.0133\n"
          ]
        },
        {
          "output_type": "stream",
          "name": "stderr",
          "text": [
            "100%|██████████| 5/5 [02:40<00:00, 32.19s/it]"
          ]
        },
        {
          "output_type": "stream",
          "name": "stdout",
          "text": [
            "Epoch 5/5, Training Loss: 0.0115, Test Loss: 0.0133\n"
          ]
        },
        {
          "output_type": "stream",
          "name": "stderr",
          "text": [
            "\n"
          ]
        }
      ]
    },
    {
      "cell_type": "code",
      "source": [
        "plt.plot(mean_loss,'k',label='training')\n",
        "plt.plot(mean_test_loss,'r',label='test')\n",
        "plt.legend()\n",
        "plt.show()"
      ],
      "metadata": {
        "colab": {
          "base_uri": "https://localhost:8080/",
          "height": 430
        },
        "id": "zZfILxinTbUX",
        "outputId": "03856000-ec51-4a17-ed29-864e73f6ccbd"
      },
      "execution_count": 38,
      "outputs": [
        {
          "output_type": "display_data",
          "data": {
            "text/plain": [
              "<Figure size 640x480 with 1 Axes>"
            ],
            "image/png": "[encoded data removed]"
          },
          "metadata": {}
        }
      ]
    },
    {
      "cell_type": "code",
      "source": [
        "def evaluation(model, dataloader_test, device):\n",
        "    model.eval()\n",
        "    rmse = []\n",
        "    maes = []\n",
        "\n",
        "    with torch.no_grad():\n",
        "        for sample_test in dataloader_test:\n",
        "            inputs = sample_test['inputs'].to(device)\n",
        "            targets = sample_test['outputs'].to(device)\n",
        "            preds = model(inputs)\n",
        "\n",
        "            error = ((preds - targets) ** 2).mean().item()\n",
        "            mae = (preds - targets).abs().mean().item()\n",
        "            rmse.append(np.sqrt(error))\n",
        "            maes.append(mae)\n",
        "\n",
        "    return {'rmse': np.mean(rmse), 'mae': np.mean(maes)}"
      ],
      "metadata": {
        "id": "zvFpdni2WQoP"
      },
      "execution_count": 25,
      "outputs": []
    },
    {
      "cell_type": "code",
      "source": [
        "results = evaluation(model,dataloader_test,bs)\n",
        "print (results)"
      ],
      "metadata": {
        "colab": {
          "base_uri": "https://localhost:8080/"
        },
        "id": "e4KvA3E4WU_G",
        "outputId": "c37e1aba-9acc-4f1a-b03f-6f0b231b4e4b"
      },
      "execution_count": 39,
      "outputs": [
        {
          "output_type": "stream",
          "name": "stdout",
          "text": [
            "{'rmse': 0.0821227371528111, 'mae': 0.04171430739009474}\n"
          ]
        }
      ]
    },
    {
      "cell_type": "markdown",
      "source": [
        "LSTM, Window = 10, Horizon = 36"
      ],
      "metadata": {
        "id": "JfeCyMdrT_An"
      }
    },
    {
      "cell_type": "code",
      "source": [
        "tobj_train = TrafficForecast('tps_df.pkl', 10, 36, train_size=0.8, mode='train')\n",
        "tobj_test = TrafficForecast('tps_df.pkl', 10, 36, train_size=0.8, mode='test')\n",
        "\n",
        "bs = 1024\n",
        "dataloader_train = DataLoader(tobj_train, batch_size=1024, shuffle=False, num_workers=4, drop_last=True)\n",
        "dataloader_test = DataLoader(tobj_test, batch_size=1024, shuffle=False, num_workers=4, drop_last=True)"
      ],
      "metadata": {
        "colab": {
          "base_uri": "https://localhost:8080/"
        },
        "id": "QxGc0yvQTsSf",
        "outputId": "72cf9036-3f50-48df-a302-1e38f9fb558e"
      },
      "execution_count": 40,
      "outputs": [
        {
          "output_type": "stream",
          "name": "stderr",
          "text": [
            "/usr/local/lib/python3.10/dist-packages/torch/utils/data/dataloader.py:557: UserWarning: This DataLoader will create 4 worker processes in total. Our suggested max number of worker in current system is 2, which is smaller than what this DataLoader is going to create. Please be aware that excessive worker creation might get DataLoader running slow or even freeze, lower the worker number to avoid potential slowness/freeze if necessary.\n",
            "  warnings.warn(_create_warning_msg(\n"
          ]
        }
      ]
    },
    {
      "cell_type": "code",
      "source": [
        "n_epochs = 5\n",
        "\n",
        "mean_loss = []\n",
        "mean_test_loss = []\n",
        "for it in tqdm(range(n_epochs)):\n",
        "    losses = []\n",
        "    test_losses = []\n",
        "    model.train()\n",
        "    for i_batch, sample_batched in enumerate(dataloader_train):\n",
        "        optimizer.zero_grad()\n",
        "        outputs = model(sample_batched['inputs'].to(device))\n",
        "        loss = criterion(outputs, sample_batched['outputs'].to(device))\n",
        "        losses.append(loss.item())\n",
        "        loss.backward()\n",
        "        optimizer.step()\n",
        "    epoch_mean_loss = np.mean(losses)\n",
        "    mean_loss.append(epoch_mean_loss)\n",
        "\n",
        "    model.eval()\n",
        "    with torch.no_grad():\n",
        "        for sample_batched in dataloader_test:\n",
        "            outputs = model(sample_batched['inputs'].to(device))\n",
        "            test_loss = criterion(outputs, sample_batched['outputs'].to(device))\n",
        "            test_losses.append(test_loss.item())\n",
        "    epoch_mean_test_loss = np.mean(test_losses)\n",
        "    mean_test_loss.append(epoch_mean_test_loss)\n",
        "\n",
        "    print(f'Epoch {it+1}/{n_epochs}, Training Loss: {epoch_mean_loss:.4f}, Test Loss: {epoch_mean_test_loss:.4f}')\n"
      ],
      "metadata": {
        "colab": {
          "base_uri": "https://localhost:8080/"
        },
        "id": "dce8v3J2UYHn",
        "outputId": "1a9e2f9e-60e1-47fe-c5c1-c76b21575757"
      },
      "execution_count": 41,
      "outputs": [
        {
          "output_type": "stream",
          "name": "stderr",
          "text": [
            " 20%|██        | 1/5 [00:29<01:58, 29.52s/it]"
          ]
        },
        {
          "output_type": "stream",
          "name": "stdout",
          "text": [
            "Epoch 1/5, Training Loss: 0.0106, Test Loss: 0.0108\n"
          ]
        },
        {
          "output_type": "stream",
          "name": "stderr",
          "text": [
            "\r 40%|████      | 2/5 [00:58<01:27, 29.13s/it]"
          ]
        },
        {
          "output_type": "stream",
          "name": "stdout",
          "text": [
            "Epoch 2/5, Training Loss: 0.0105, Test Loss: 0.0107\n"
          ]
        },
        {
          "output_type": "stream",
          "name": "stderr",
          "text": [
            "\r 60%|██████    | 3/5 [01:27<00:58, 29.06s/it]"
          ]
        },
        {
          "output_type": "stream",
          "name": "stdout",
          "text": [
            "Epoch 3/5, Training Loss: 0.0104, Test Loss: 0.0106\n"
          ]
        },
        {
          "output_type": "stream",
          "name": "stderr",
          "text": [
            "\r 80%|████████  | 4/5 [01:54<00:28, 28.46s/it]"
          ]
        },
        {
          "output_type": "stream",
          "name": "stdout",
          "text": [
            "Epoch 4/5, Training Loss: 0.0103, Test Loss: 0.0105\n"
          ]
        },
        {
          "output_type": "stream",
          "name": "stderr",
          "text": [
            "100%|██████████| 5/5 [02:23<00:00, 28.70s/it]"
          ]
        },
        {
          "output_type": "stream",
          "name": "stdout",
          "text": [
            "Epoch 5/5, Training Loss: 0.0102, Test Loss: 0.0103\n"
          ]
        },
        {
          "output_type": "stream",
          "name": "stderr",
          "text": [
            "\n"
          ]
        }
      ]
    },
    {
      "cell_type": "code",
      "source": [
        "plt.plot(mean_loss,'k',label='training')\n",
        "plt.plot(mean_test_loss,'r',label='test')\n",
        "plt.legend()\n",
        "plt.show()"
      ],
      "metadata": {
        "colab": {
          "base_uri": "https://localhost:8080/",
          "height": 432
        },
        "id": "ZTAhMhTwW2DH",
        "outputId": "18a5ae90-8a09-43cd-f650-3084895ff2ae"
      },
      "execution_count": 42,
      "outputs": [
        {
          "output_type": "display_data",
          "data": {
            "text/plain": [
              "<Figure size 640x480 with 1 Axes>"
            ],
            "image/png": "[encoded data removed]"
          },
          "metadata": {}
        }
      ]
    },
    {
      "cell_type": "code",
      "source": [
        "results = evaluation(model,dataloader_test,bs)\n",
        "print (results)"
      ],
      "metadata": {
        "colab": {
          "base_uri": "https://localhost:8080/"
        },
        "id": "3g3i0VWZXCs_",
        "outputId": "6f3a9594-c76e-42e9-8304-dd146362367b"
      },
      "execution_count": 43,
      "outputs": [
        {
          "output_type": "stream",
          "name": "stdout",
          "text": [
            "{'rmse': 0.07532928157137159, 'mae': 0.036751937341150336}\n"
          ]
        }
      ]
    },
    {
      "cell_type": "markdown",
      "source": [
        "GRU, Window = 36, Horizon = 36"
      ],
      "metadata": {
        "id": "GLdcHNdMXcnO"
      }
    },
    {
      "cell_type": "code",
      "source": [
        "tobj_train = TrafficForecast('tps_df.pkl', 36, 36, train_size=0.8, mode='train')\n",
        "tobj_test = TrafficForecast('tps_df.pkl', 36, 36, train_size=0.8, mode='test')\n",
        "\n",
        "bs = 1024\n",
        "dataloader_train = DataLoader(tobj_train, batch_size=1024, shuffle=False, num_workers=4, drop_last=True)\n",
        "dataloader_test = DataLoader(tobj_test, batch_size=1024, shuffle=False, num_workers=4, drop_last=True)"
      ],
      "metadata": {
        "colab": {
          "base_uri": "https://localhost:8080/"
        },
        "id": "M1F5hP5TXl-I",
        "outputId": "cd11c754-668f-454e-d2a5-87089a930b45"
      },
      "execution_count": 44,
      "outputs": [
        {
          "output_type": "stream",
          "name": "stderr",
          "text": [
            "/usr/local/lib/python3.10/dist-packages/torch/utils/data/dataloader.py:557: UserWarning: This DataLoader will create 4 worker processes in total. Our suggested max number of worker in current system is 2, which is smaller than what this DataLoader is going to create. Please be aware that excessive worker creation might get DataLoader running slow or even freeze, lower the worker number to avoid potential slowness/freeze if necessary.\n",
            "  warnings.warn(_create_warning_msg(\n"
          ]
        }
      ]
    },
    {
      "cell_type": "code",
      "source": [
        "model = MyGRU(n_inputs=2, n_hidden=10, n_rnnlayers=2, n_outputs=36)\n",
        "model.to(device)\n",
        "criterion = nn.MSELoss()\n",
        "optimizer = torch.optim.Adam(model.parameters(), lr=0.001)"
      ],
      "metadata": {
        "id": "J-H6ngj0XuH-"
      },
      "execution_count": 45,
      "outputs": []
    },
    {
      "cell_type": "code",
      "source": [
        "n_epochs = 5\n",
        "\n",
        "mean_loss = []\n",
        "mean_test_loss = []\n",
        "\n",
        "for it in tqdm(range(n_epochs)):\n",
        "    losses = []\n",
        "    test_losses = []\n",
        "\n",
        "    model.train()\n",
        "    for i_batch, sample_batched in enumerate(dataloader_train):\n",
        "        optimizer.zero_grad()\n",
        "        outputs = model(sample_batched['inputs'].to(device))\n",
        "        loss = criterion(outputs, sample_batched['outputs'].to(device))\n",
        "        losses.append(loss.item())\n",
        "        loss.backward()\n",
        "        optimizer.step()\n",
        "\n",
        "    epoch_mean_loss = np.mean(losses)\n",
        "    mean_loss.append(epoch_mean_loss)\n",
        "\n",
        "    model.eval()\n",
        "    with torch.no_grad():\n",
        "        for sample_batched in dataloader_test:\n",
        "            outputs = model(sample_batched['inputs'].to(device))\n",
        "            test_loss = criterion(outputs, sample_batched['outputs'].to(device))\n",
        "            test_losses.append(test_loss.item())\n",
        "\n",
        "    epoch_mean_test_loss = np.mean(test_losses)\n",
        "    mean_test_loss.append(epoch_mean_test_loss)\n",
        "\n",
        "    print(f'Epoch {it+1}/{n_epochs}, Training Loss: {epoch_mean_loss:.4f}, Test Loss: {epoch_mean_test_loss:.4f}')\n"
      ],
      "metadata": {
        "colab": {
          "base_uri": "https://localhost:8080/"
        },
        "id": "X3RaK7kwX3Bw",
        "outputId": "33240041-2ad7-4f27-e5d1-d48b6c267d96"
      },
      "execution_count": 46,
      "outputs": [
        {
          "output_type": "stream",
          "name": "stderr",
          "text": [
            " 20%|██        | 1/5 [00:31<02:05, 31.44s/it]"
          ]
        },
        {
          "output_type": "stream",
          "name": "stdout",
          "text": [
            "Epoch 1/5, Training Loss: 0.0914, Test Loss: 0.0122\n"
          ]
        },
        {
          "output_type": "stream",
          "name": "stderr",
          "text": [
            "\r 40%|████      | 2/5 [01:03<01:35, 31.77s/it]"
          ]
        },
        {
          "output_type": "stream",
          "name": "stdout",
          "text": [
            "Epoch 2/5, Training Loss: 0.0112, Test Loss: 0.0121\n"
          ]
        },
        {
          "output_type": "stream",
          "name": "stderr",
          "text": [
            "\r 60%|██████    | 3/5 [01:34<01:03, 31.50s/it]"
          ]
        },
        {
          "output_type": "stream",
          "name": "stdout",
          "text": [
            "Epoch 3/5, Training Loss: 0.0112, Test Loss: 0.0120\n"
          ]
        },
        {
          "output_type": "stream",
          "name": "stderr",
          "text": [
            "\r 80%|████████  | 4/5 [02:05<00:31, 31.31s/it]"
          ]
        },
        {
          "output_type": "stream",
          "name": "stdout",
          "text": [
            "Epoch 4/5, Training Loss: 0.0112, Test Loss: 0.0120\n"
          ]
        },
        {
          "output_type": "stream",
          "name": "stderr",
          "text": [
            "100%|██████████| 5/5 [02:36<00:00, 31.30s/it]"
          ]
        },
        {
          "output_type": "stream",
          "name": "stdout",
          "text": [
            "Epoch 5/5, Training Loss: 0.0111, Test Loss: 0.0120\n"
          ]
        },
        {
          "output_type": "stream",
          "name": "stderr",
          "text": [
            "\n"
          ]
        }
      ]
    },
    {
      "cell_type": "code",
      "source": [
        "plt.plot(mean_loss,'k',label='training')\n",
        "plt.plot(mean_test_loss,'r',label='test')\n",
        "plt.legend()\n",
        "plt.show()"
      ],
      "metadata": {
        "colab": {
          "base_uri": "https://localhost:8080/",
          "height": 430
        },
        "id": "OTBWash0X86P",
        "outputId": "b2bb2a69-e52f-4b6f-a06e-432d822cb2fe"
      },
      "execution_count": 47,
      "outputs": [
        {
          "output_type": "display_data",
          "data": {
            "text/plain": [
              "<Figure size 640x480 with 1 Axes>"
            ],
            "image/png": "[encoded data removed]"
          },
          "metadata": {}
        }
      ]
    },
    {
      "cell_type": "code",
      "source": [
        "results = evaluation(model,dataloader_test,bs)\n",
        "print (results)"
      ],
      "metadata": {
        "colab": {
          "base_uri": "https://localhost:8080/"
        },
        "id": "Iw1N1uQVX_9-",
        "outputId": "f79a7988-d6dc-4333-8224-c785ca6846fd"
      },
      "execution_count": 48,
      "outputs": [
        {
          "output_type": "stream",
          "name": "stderr",
          "text": [
            "/usr/local/lib/python3.10/dist-packages/torch/utils/data/dataloader.py:557: UserWarning: This DataLoader will create 4 worker processes in total. Our suggested max number of worker in current system is 2, which is smaller than what this DataLoader is going to create. Please be aware that excessive worker creation might get DataLoader running slow or even freeze, lower the worker number to avoid potential slowness/freeze if necessary.\n",
            "  warnings.warn(_create_warning_msg(\n"
          ]
        },
        {
          "output_type": "stream",
          "name": "stdout",
          "text": [
            "{'rmse': 0.08720585578577525, 'mae': 0.053392368882131856}\n"
          ]
        }
      ]
    },
    {
      "cell_type": "markdown",
      "source": [
        "GRU, Window = 10, Horizon = 36"
      ],
      "metadata": {
        "id": "sLMxo79dYCAO"
      }
    },
    {
      "cell_type": "code",
      "source": [
        "tobj_train = TrafficForecast('tps_df.pkl', 10, 36, train_size=0.8, mode='train')\n",
        "tobj_test = TrafficForecast('tps_df.pkl', 10, 36, train_size=0.8, mode='test')\n",
        "\n",
        "bs = 1024\n",
        "dataloader_train = DataLoader(tobj_train, batch_size=1024, shuffle=False, num_workers=4, drop_last=True)\n",
        "dataloader_test = DataLoader(tobj_test, batch_size=1024, shuffle=False, num_workers=4, drop_last=True)"
      ],
      "metadata": {
        "colab": {
          "base_uri": "https://localhost:8080/"
        },
        "id": "zBkhCr56YHEu",
        "outputId": "0c3b51e1-50b6-4714-c859-ea7a4e789ce5"
      },
      "execution_count": 49,
      "outputs": [
        {
          "output_type": "stream",
          "name": "stderr",
          "text": [
            "/usr/local/lib/python3.10/dist-packages/torch/utils/data/dataloader.py:557: UserWarning: This DataLoader will create 4 worker processes in total. Our suggested max number of worker in current system is 2, which is smaller than what this DataLoader is going to create. Please be aware that excessive worker creation might get DataLoader running slow or even freeze, lower the worker number to avoid potential slowness/freeze if necessary.\n",
            "  warnings.warn(_create_warning_msg(\n"
          ]
        }
      ]
    },
    {
      "cell_type": "code",
      "source": [
        "n_epochs = 5\n",
        "\n",
        "mean_loss = []\n",
        "mean_test_loss = []\n",
        "\n",
        "for it in tqdm(range(n_epochs)):\n",
        "    losses = []\n",
        "    test_losses = []\n",
        "\n",
        "    model.train()\n",
        "    for i_batch, sample_batched in enumerate(dataloader_train):\n",
        "        optimizer.zero_grad()\n",
        "        outputs = model(sample_batched['inputs'].to(device))\n",
        "        loss = criterion(outputs, sample_batched['outputs'].to(device))\n",
        "        losses.append(loss.item())\n",
        "        loss.backward()\n",
        "        optimizer.step()\n",
        "\n",
        "    epoch_mean_loss = np.mean(losses)\n",
        "    mean_loss.append(epoch_mean_loss)\n",
        "\n",
        "    model.eval()\n",
        "    with torch.no_grad():\n",
        "        for sample_batched in dataloader_test:\n",
        "            outputs = model(sample_batched['inputs'].to(device))\n",
        "            test_loss = criterion(outputs, sample_batched['outputs'].to(device))\n",
        "            test_losses.append(test_loss.item())\n",
        "\n",
        "    epoch_mean_test_loss = np.mean(test_losses)\n",
        "    mean_test_loss.append(epoch_mean_test_loss)\n",
        "\n",
        "    print(f'Epoch {it+1}/{n_epochs}, Training Loss: {epoch_mean_loss:.4f}, Test Loss: {epoch_mean_test_loss:.4f}')\n"
      ],
      "metadata": {
        "colab": {
          "base_uri": "https://localhost:8080/"
        },
        "id": "pyiLzQRkYKy-",
        "outputId": "7fb4db61-2469-4e39-de96-973856b45fbf"
      },
      "execution_count": 51,
      "outputs": [
        {
          "output_type": "stream",
          "name": "stderr",
          "text": [
            " 20%|██        | 1/5 [00:30<02:01, 30.26s/it]"
          ]
        },
        {
          "output_type": "stream",
          "name": "stdout",
          "text": [
            "Epoch 1/5, Training Loss: 0.0126, Test Loss: 0.0118\n"
          ]
        },
        {
          "output_type": "stream",
          "name": "stderr",
          "text": [
            "\r 40%|████      | 2/5 [01:00<01:30, 30.05s/it]"
          ]
        },
        {
          "output_type": "stream",
          "name": "stdout",
          "text": [
            "Epoch 2/5, Training Loss: 0.0124, Test Loss: 0.0117\n"
          ]
        },
        {
          "output_type": "stream",
          "name": "stderr",
          "text": [
            "\r 60%|██████    | 3/5 [01:31<01:01, 30.53s/it]"
          ]
        },
        {
          "output_type": "stream",
          "name": "stdout",
          "text": [
            "Epoch 3/5, Training Loss: 0.0121, Test Loss: 0.0114\n"
          ]
        },
        {
          "output_type": "stream",
          "name": "stderr",
          "text": [
            "\r 80%|████████  | 4/5 [02:00<00:30, 30.21s/it]"
          ]
        },
        {
          "output_type": "stream",
          "name": "stdout",
          "text": [
            "Epoch 4/5, Training Loss: 0.0116, Test Loss: 0.0120\n"
          ]
        },
        {
          "output_type": "stream",
          "name": "stderr",
          "text": [
            "100%|██████████| 5/5 [02:30<00:00, 30.06s/it]"
          ]
        },
        {
          "output_type": "stream",
          "name": "stdout",
          "text": [
            "Epoch 5/5, Training Loss: 0.0113, Test Loss: 0.0120\n"
          ]
        },
        {
          "output_type": "stream",
          "name": "stderr",
          "text": [
            "\n"
          ]
        }
      ]
    },
    {
      "cell_type": "code",
      "source": [
        "plt.plot(mean_loss,'k',label='training')\n",
        "plt.plot(mean_test_loss,'r',label='test')\n",
        "plt.legend()\n",
        "plt.show()"
      ],
      "metadata": {
        "colab": {
          "base_uri": "https://localhost:8080/",
          "height": 430
        },
        "id": "jdf2TjQbYOo2",
        "outputId": "e2228690-8466-4d57-df54-0d7a7e8036b6"
      },
      "execution_count": 52,
      "outputs": [
        {
          "output_type": "display_data",
          "data": {
            "text/plain": [
              "<Figure size 640x480 with 1 Axes>"
            ],
            "image/png": "[encoded data removed]"
          },
          "metadata": {}
        }
      ]
    },
    {
      "cell_type": "code",
      "source": [
        "results = evaluation(model,dataloader_test,bs)\n",
        "print (results)"
      ],
      "metadata": {
        "colab": {
          "base_uri": "https://localhost:8080/"
        },
        "id": "lx50jntsYQIf",
        "outputId": "82b9a3f7-6422-4a7b-d831-bc6ccc9f48c7"
      },
      "execution_count": 53,
      "outputs": [
        {
          "output_type": "stream",
          "name": "stdout",
          "text": [
            "{'rmse': 0.10156320936928112, 'mae': 0.08377822165883432}\n"
          ]
        }
      ]
    }
  ]
}