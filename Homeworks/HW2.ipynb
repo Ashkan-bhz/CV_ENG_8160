{
  "nbformat": 4,
  "nbformat_minor": 0,
  "metadata": {
    "colab": {
      "provenance": [],
      "gpuType": "T4"
    },
    "kernelspec": {
      "name": "python3",
      "display_name": "Python 3"
    },
    "language_info": {
      "name": "python"
    },
    "accelerator": "GPU"
  },
  "cells": [
    {
      "cell_type": "code",
      "execution_count": 2,
      "metadata": {
        "colab": {
          "base_uri": "https://localhost:8080/"
        },
        "id": "xOsrOBvfVWCB",
        "outputId": "ea5e1aca-9d70-41e5-94c5-f0cc38fe4044"
      },
      "outputs": [
        {
          "output_type": "stream",
          "name": "stdout",
          "text": [
            "/content/drive/MyDrive/CV_ENG_8160/Homeworks/HW2\n"
          ]
        }
      ],
      "source": [
        "%cd /content/drive/MyDrive/CV_ENG_8160/Homeworks/HW2"
      ]
    },
    {
      "cell_type": "code",
      "source": [
        "import pandas as pd\n",
        "import random, math\n",
        "import torch\n",
        "import torch.nn as nn\n",
        "import numpy as np\n",
        "import matplotlib.pyplot as plt\n",
        "from sklearn.preprocessing import StandardScaler\n",
        "from scipy import fftpack\n",
        "import torch.utils.data as utils\n",
        "import os\n",
        "from sklearn.metrics import mean_absolute_percentage_error\n",
        "from torch.utils.data import Dataset, DataLoader\n",
        "from tqdm import tqdm\n",
        "from models import *"
      ],
      "metadata": {
        "id": "HoFPWnQSW2Xx"
      },
      "execution_count": 3,
      "outputs": []
    },
    {
      "cell_type": "code",
      "source": [
        "class TrafficForecast(Dataset):\n",
        "    def __init__(self, pkl_path, window, horizon, train_size=0.8, mode='train'):\n",
        "        self.pkl_path = pkl_path\n",
        "        self.window = window\n",
        "        self.horizon = horizon\n",
        "        self.mode = mode\n",
        "        self.df = None\n",
        "        self.seg_ids = None\n",
        "        self.inputs = []\n",
        "        self.targets = []\n",
        "\n",
        "        df = pd.read_pickle(self.pkl_path)\n",
        "        df['time'] = pd.to_datetime(df['time'])\n",
        "        df['unix_timestamp'] = df['time'].astype(int) / 10**9\n",
        "        df['dow'] = df['time'].dt.weekday\n",
        "        df['hour'] = df['time'].dt.hour\n",
        "        df['min'] = df['time'].dt.minute\n",
        "        self.df = df.sample(frac=1).reset_index(drop=True)\n",
        "\n",
        "        self.seg_ids = self.df['segmentID'].unique()\n",
        "        train_cutoff = int(len(self.seg_ids) * train_size)\n",
        "        self.train_seg_ids = self.seg_ids[:train_cutoff]\n",
        "        self.test_seg_ids = self.seg_ids[train_cutoff:]\n",
        "\n",
        "        if self.mode == 'train':\n",
        "            self.setup_forecast(self.train_seg_ids)\n",
        "        elif self.mode == 'test':\n",
        "            self.setup_forecast(self.test_seg_ids)\n",
        "\n",
        "    def setup_forecast(self, seg_ids):\n",
        "\n",
        "        for segid in seg_ids:\n",
        "\n",
        "            df_seg_id = self.df[self.df['segmentID'] == segid]\n",
        "            df_seg_id = df_seg_id.sort_values(by='time', ascending=True)\n",
        "            df_seg_id = df_seg_id.fillna(method=\"ffill\")\n",
        "            TI_series = df_seg_id['TrafficIndex_GP'].values\n",
        "            h_series = df_seg_id['hour'].values\n",
        "            for t in range(len(TI_series) - (self.window + self.horizon)):\n",
        "                x = TI_series[t:t+self.window]\n",
        "                h = h_series[t:t+self.window]\n",
        "                y = TI_series[t+self.window:(t+self.window + self.horizon)]\n",
        "\n",
        "                x_combined = np.stack((x, h), axis=1)\n",
        "                self.inputs.append(x_combined)\n",
        "                self.targets.append(y)\n",
        "\n",
        "    def __len__(self):\n",
        "        return len(self.inputs)\n",
        "\n",
        "    def __getitem__(self, idx):\n",
        "        X = torch.tensor(self.inputs[idx], dtype=torch.float32)\n",
        "\n",
        "        y = torch.tensor(self.targets[idx], dtype=torch.float32)\n",
        "        return {'inputs': X, 'outputs': y}\n",
        "\n",
        "\n"
      ],
      "metadata": {
        "id": "ImAcNrTrXAIf"
      },
      "execution_count": 4,
      "outputs": []
    },
    {
      "cell_type": "code",
      "source": [
        "tobj_train = TrafficForecast('tps_df.pkl', 36, 12, train_size=0.8, mode='train')\n",
        "\n",
        "tobj_test = TrafficForecast('tps_df.pkl', 36, 12, train_size=0.8, mode='test')"
      ],
      "metadata": {
        "id": "nm-qq4CjXDIC"
      },
      "execution_count": 5,
      "outputs": []
    },
    {
      "cell_type": "code",
      "source": [
        "bs = 1024\n",
        "dataloader_train = DataLoader(tobj_train, batch_size=1024, shuffle=False, num_workers=4, drop_last=True)\n",
        "\n",
        "dataloader_test = DataLoader(tobj_test, batch_size=1024, shuffle=False, num_workers=4, drop_last=True)"
      ],
      "metadata": {
        "colab": {
          "base_uri": "https://localhost:8080/"
        },
        "id": "LaSP_-j8XFV2",
        "outputId": "a672d823-6649-4412-9f21-6b4e8dd1ef24"
      },
      "execution_count": 6,
      "outputs": [
        {
          "output_type": "stream",
          "name": "stderr",
          "text": [
            "/usr/local/lib/python3.10/dist-packages/torch/utils/data/dataloader.py:558: UserWarning: This DataLoader will create 4 worker processes in total. Our suggested max number of worker in current system is 2, which is smaller than what this DataLoader is going to create. Please be aware that excessive worker creation might get DataLoader running slow or even freeze, lower the worker number to avoid potential slowness/freeze if necessary.\n",
            "  warnings.warn(_create_warning_msg(\n"
          ]
        }
      ]
    },
    {
      "cell_type": "code",
      "source": [
        "for idx, data in enumerate(dataloader_train):\n",
        "    print (data['inputs'].shape,data['outputs'].shape)\n",
        "    if idx == 3:\n",
        "        break"
      ],
      "metadata": {
        "colab": {
          "base_uri": "https://localhost:8080/"
        },
        "id": "2BzbUCTyXQ-g",
        "outputId": "92a16518-d763-43f1-843c-f325854caeb6"
      },
      "execution_count": 7,
      "outputs": [
        {
          "output_type": "stream",
          "name": "stdout",
          "text": [
            "torch.Size([1024, 36, 2]) torch.Size([1024, 12])\n",
            "torch.Size([1024, 36, 2]) torch.Size([1024, 12])\n",
            "torch.Size([1024, 36, 2]) torch.Size([1024, 12])\n",
            "torch.Size([1024, 36, 2]) torch.Size([1024, 12])\n"
          ]
        }
      ]
    },
    {
      "cell_type": "code",
      "source": [
        "device = torch.device(\"cuda:0\" if torch.cuda.is_available() else \"cpu\")"
      ],
      "metadata": {
        "id": "eOQ56oEAXUfd"
      },
      "execution_count": 8,
      "outputs": []
    },
    {
      "cell_type": "markdown",
      "source": [
        "# LSTM"
      ],
      "metadata": {
        "id": "_vyoajT9Y2Qo"
      }
    },
    {
      "cell_type": "code",
      "source": [
        "model = MyLSTM(n_inputs=2, n_hidden=10, n_rnnlayers=2, n_outputs=12)\n",
        "model.to(device)\n",
        "criterion = nn.MSELoss()\n",
        "optimizer = torch.optim.Adam(model.parameters(), lr=0.001)"
      ],
      "metadata": {
        "id": "6ZS2w1EGXWOz"
      },
      "execution_count": 9,
      "outputs": []
    },
    {
      "cell_type": "code",
      "source": [
        "n_epochs = 5\n",
        "\n",
        "mean_loss = []\n",
        "mean_test_loss = []\n",
        "\n",
        "for it in tqdm(range(n_epochs)):\n",
        "    losses = []\n",
        "    test_losses = []\n",
        "\n",
        "    model.train()\n",
        "    for i_batch, sample_batched in enumerate(dataloader_train):\n",
        "        optimizer.zero_grad()\n",
        "        outputs = model(sample_batched['inputs'].to(device))\n",
        "        loss = criterion(outputs, sample_batched['outputs'].to(device))\n",
        "        losses.append(loss.item())\n",
        "        loss.backward()\n",
        "        optimizer.step()\n",
        "\n",
        "    epoch_mean_loss = np.mean(losses)\n",
        "    mean_loss.append(epoch_mean_loss)\n",
        "\n",
        "    model.eval()\n",
        "    with torch.no_grad():\n",
        "        for sample_batched in dataloader_test:\n",
        "            outputs = model(sample_batched['inputs'].to(device))\n",
        "            test_loss = criterion(outputs, sample_batched['outputs'].to(device))\n",
        "            test_losses.append(test_loss.item())\n",
        "\n",
        "    epoch_mean_test_loss = np.mean(test_losses)\n",
        "    mean_test_loss.append(epoch_mean_test_loss)\n",
        "\n",
        "    print(f'Epoch {it+1}/{n_epochs}, Training Loss: {epoch_mean_loss:.4f}, Test Loss: {epoch_mean_test_loss:.4f}')\n"
      ],
      "metadata": {
        "colab": {
          "base_uri": "https://localhost:8080/"
        },
        "id": "S74YcGfdXZRY",
        "outputId": "7fbc5f8b-9d8e-4281-b0b3-d51c7754dad7"
      },
      "execution_count": 10,
      "outputs": [
        {
          "output_type": "stream",
          "name": "stderr",
          "text": [
            "\r  0%|          | 0/5 [00:00<?, ?it/s]/usr/local/lib/python3.10/dist-packages/torch/utils/data/dataloader.py:558: UserWarning: This DataLoader will create 4 worker processes in total. Our suggested max number of worker in current system is 2, which is smaller than what this DataLoader is going to create. Please be aware that excessive worker creation might get DataLoader running slow or even freeze, lower the worker number to avoid potential slowness/freeze if necessary.\n",
            "  warnings.warn(_create_warning_msg(\n",
            " 20%|██        | 1/5 [00:27<01:51, 27.95s/it]"
          ]
        },
        {
          "output_type": "stream",
          "name": "stdout",
          "text": [
            "Epoch 1/5, Training Loss: 0.0675, Test Loss: 0.0118\n"
          ]
        },
        {
          "output_type": "stream",
          "name": "stderr",
          "text": [
            "\r 40%|████      | 2/5 [00:55<01:23, 27.91s/it]"
          ]
        },
        {
          "output_type": "stream",
          "name": "stdout",
          "text": [
            "Epoch 2/5, Training Loss: 0.0117, Test Loss: 0.0116\n"
          ]
        },
        {
          "output_type": "stream",
          "name": "stderr",
          "text": [
            "\r 60%|██████    | 3/5 [01:27<00:58, 29.48s/it]"
          ]
        },
        {
          "output_type": "stream",
          "name": "stdout",
          "text": [
            "Epoch 3/5, Training Loss: 0.0114, Test Loss: 0.0114\n"
          ]
        },
        {
          "output_type": "stream",
          "name": "stderr",
          "text": [
            "\r 80%|████████  | 4/5 [01:55<00:28, 28.92s/it]"
          ]
        },
        {
          "output_type": "stream",
          "name": "stdout",
          "text": [
            "Epoch 4/5, Training Loss: 0.0103, Test Loss: 0.0114\n"
          ]
        },
        {
          "output_type": "stream",
          "name": "stderr",
          "text": [
            "100%|██████████| 5/5 [02:22<00:00, 28.43s/it]"
          ]
        },
        {
          "output_type": "stream",
          "name": "stdout",
          "text": [
            "Epoch 5/5, Training Loss: 0.0084, Test Loss: 0.0094\n"
          ]
        },
        {
          "output_type": "stream",
          "name": "stderr",
          "text": [
            "\n"
          ]
        }
      ]
    },
    {
      "cell_type": "code",
      "source": [
        "plt.plot(mean_loss,'k',label='training')\n",
        "plt.plot(mean_test_loss,'r',label='test')\n",
        "plt.legend()\n",
        "plt.show()"
      ],
      "metadata": {
        "colab": {
          "base_uri": "https://localhost:8080/",
          "height": 433
        },
        "id": "j2mbE6MSXlVL",
        "outputId": "3e86baad-2f8b-4da2-cffd-81c2779610fe"
      },
      "execution_count": 11,
      "outputs": [
        {
          "output_type": "display_data",
          "data": {
            "text/plain": [
              "<Figure size 640x480 with 1 Axes>"
            ],
            "image/png": "[encoded data removed]"
          },
          "metadata": {}
        }
      ]
    },
    {
      "cell_type": "code",
      "source": [
        "def evaluation(model, dataloader_test, device):\n",
        "    model.eval()\n",
        "    mse_values = []\n",
        "    mape_values = []\n",
        "\n",
        "    with torch.no_grad():\n",
        "        for sample_test in dataloader_test:\n",
        "            inputs = sample_test['inputs'].to(device)\n",
        "            targets = sample_test['outputs'].to(device)\n",
        "            preds = model(inputs)\n",
        "\n",
        "            mse = ((preds - targets) ** 2).mean().item()\n",
        "            mape = (preds - targets).abs() / targets.abs()\n",
        "            mape = mape.mean().item() * 100\n",
        "\n",
        "            mse_values.append(mse)\n",
        "            mape_values.append(mape)\n",
        "\n",
        "    return {'mse': np.mean(mse_values), 'mape': np.mean(mape_values)}\n"
      ],
      "metadata": {
        "id": "CNEoeFRKXmBW"
      },
      "execution_count": 12,
      "outputs": []
    },
    {
      "cell_type": "code",
      "source": [
        "results = evaluation(model,dataloader_test,bs)\n",
        "print (results)"
      ],
      "metadata": {
        "colab": {
          "base_uri": "https://localhost:8080/"
        },
        "id": "8AQyW8B0XotC",
        "outputId": "6da6d0b1-4740-418c-d8b0-916be35ba7ae"
      },
      "execution_count": 13,
      "outputs": [
        {
          "output_type": "stream",
          "name": "stdout",
          "text": [
            "{'mse': 0.009404781787366584, 'mape': 8.23798223552624}\n"
          ]
        }
      ]
    },
    {
      "cell_type": "markdown",
      "source": [
        "# GRU"
      ],
      "metadata": {
        "id": "zYVUYjFCY59u"
      }
    },
    {
      "cell_type": "code",
      "source": [
        "model = MyGRU(n_inputs=2, n_hidden=10, n_rnnlayers=2, n_outputs=12)\n",
        "model.to(device)"
      ],
      "metadata": {
        "colab": {
          "base_uri": "https://localhost:8080/"
        },
        "id": "TTjh5oUAZH_Y",
        "outputId": "e1fa1efc-e824-484b-92b4-f84332f6b9ef"
      },
      "execution_count": 23,
      "outputs": [
        {
          "output_type": "execute_result",
          "data": {
            "text/plain": [
              "MyGRU(\n",
              "  (relu): ReLU()\n",
              "  (rnn): GRU(2, 10, num_layers=2, batch_first=True)\n",
              "  (fc): Linear(in_features=10, out_features=12, bias=True)\n",
              ")"
            ]
          },
          "metadata": {},
          "execution_count": 23
        }
      ]
    },
    {
      "cell_type": "code",
      "source": [
        "n_epochs = 5\n",
        "mean_loss = []\n",
        "mean_test_loss = []\n",
        "for it in tqdm(range(n_epochs)):\n",
        "    losses = []\n",
        "    test_losses = []\n",
        "\n",
        "    model.train()\n",
        "    for i_batch, sample_batched in enumerate(dataloader_train):\n",
        "        optimizer.zero_grad()\n",
        "        outputs = model(sample_batched['inputs'].to(device))\n",
        "        loss = criterion(outputs, sample_batched['outputs'].to(device))\n",
        "        losses.append(loss.item())\n",
        "        loss.backward()\n",
        "        optimizer.step()\n",
        "    epoch_mean_loss = np.mean(losses)\n",
        "    mean_loss.append(epoch_mean_loss)\n",
        "\n",
        "    model.eval()\n",
        "    with torch.no_grad():\n",
        "        for sample_batched in dataloader_test:\n",
        "            outputs = model(sample_batched['inputs'].to(device))\n",
        "            test_loss = criterion(outputs, sample_batched['outputs'].to(device))\n",
        "            test_losses.append(test_loss.item())\n",
        "\n",
        "    epoch_mean_test_loss = np.mean(test_losses)\n",
        "    mean_test_loss.append(epoch_mean_test_loss)\n",
        "\n",
        "    print(f'Epoch {it+1}/{n_epochs}, Training Loss: {epoch_mean_loss:.4f}, Test Loss: {epoch_mean_test_loss:.4f}')"
      ],
      "metadata": {
        "colab": {
          "base_uri": "https://localhost:8080/"
        },
        "id": "_voMEGKQZOkw",
        "outputId": "6e244ae0-e38a-463d-ffc9-a3c0d4ff3e7b"
      },
      "execution_count": 24,
      "outputs": [
        {
          "output_type": "stream",
          "name": "stderr",
          "text": [
            " 20%|██        | 1/5 [00:27<01:48, 27.14s/it]"
          ]
        },
        {
          "output_type": "stream",
          "name": "stdout",
          "text": [
            "Epoch 1/5, Training Loss: 0.6764, Test Loss: 0.6838\n"
          ]
        },
        {
          "output_type": "stream",
          "name": "stderr",
          "text": [
            "\r 40%|████      | 2/5 [00:53<01:19, 26.58s/it]"
          ]
        },
        {
          "output_type": "stream",
          "name": "stdout",
          "text": [
            "Epoch 2/5, Training Loss: 0.6764, Test Loss: 0.6838\n"
          ]
        },
        {
          "output_type": "stream",
          "name": "stderr",
          "text": [
            "\r 60%|██████    | 3/5 [01:24<00:56, 28.48s/it]"
          ]
        },
        {
          "output_type": "stream",
          "name": "stdout",
          "text": [
            "Epoch 3/5, Training Loss: 0.6764, Test Loss: 0.6838\n"
          ]
        },
        {
          "output_type": "stream",
          "name": "stderr",
          "text": [
            "\r 80%|████████  | 4/5 [01:52<00:28, 28.45s/it]"
          ]
        },
        {
          "output_type": "stream",
          "name": "stdout",
          "text": [
            "Epoch 4/5, Training Loss: 0.6764, Test Loss: 0.6838\n"
          ]
        },
        {
          "output_type": "stream",
          "name": "stderr",
          "text": [
            "100%|██████████| 5/5 [02:20<00:00, 28.05s/it]"
          ]
        },
        {
          "output_type": "stream",
          "name": "stdout",
          "text": [
            "Epoch 5/5, Training Loss: 0.6764, Test Loss: 0.6838\n"
          ]
        },
        {
          "output_type": "stream",
          "name": "stderr",
          "text": [
            "\n"
          ]
        }
      ]
    },
    {
      "cell_type": "code",
      "source": [
        "plt.plot(mean_loss,'k',label='training')\n",
        "plt.plot(mean_test_loss,'r',label='test')\n",
        "plt.legend()\n",
        "plt.show()"
      ],
      "metadata": {
        "id": "86n5W2cohD44",
        "colab": {
          "base_uri": "https://localhost:8080/",
          "height": 430
        },
        "outputId": "33d7a11a-310f-4185-c4f2-f2bbf5427fc3"
      },
      "execution_count": 16,
      "outputs": [
        {
          "output_type": "display_data",
          "data": {
            "text/plain": [
              "<Figure size 640x480 with 1 Axes>"
            ],
            "image/png": "[encoded data removed]"
          },
          "metadata": {}
        }
      ]
    },
    {
      "cell_type": "code",
      "source": [
        "results = evaluation(model,dataloader_test,bs)\n",
        "print (results)"
      ],
      "metadata": {
        "colab": {
          "base_uri": "https://localhost:8080/"
        },
        "id": "VpiTG9figBif",
        "outputId": "85faaaae-7b00-4e1e-b41d-e702d5166088"
      },
      "execution_count": 25,
      "outputs": [
        {
          "output_type": "stream",
          "name": "stdout",
          "text": [
            "{'mse': 0.6837682437708997, 'mape': 82.20495813944208}\n"
          ]
        }
      ]
    },
    {
      "cell_type": "markdown",
      "source": [
        "# RNN"
      ],
      "metadata": {
        "id": "2SRO508BZmo7"
      }
    },
    {
      "cell_type": "code",
      "source": [
        "model = MyRNN(input_size=2, hidden_size=10, num_layers=2, output_size=12)\n",
        "model.to(device)"
      ],
      "metadata": {
        "colab": {
          "base_uri": "https://localhost:8080/"
        },
        "id": "4Ei3dmjFZZ-n",
        "outputId": "8b04d141-6f8a-46e3-b82e-287e64ca5284"
      },
      "execution_count": 17,
      "outputs": [
        {
          "output_type": "execute_result",
          "data": {
            "text/plain": [
              "MyRNN(\n",
              "  (rnn_cell_list): ModuleList(\n",
              "    (0): MyRNNCell(\n",
              "      (x2h): Linear(in_features=2, out_features=10, bias=True)\n",
              "      (h2h): Linear(in_features=10, out_features=10, bias=True)\n",
              "      (nonlinearity): ReLU()\n",
              "    )\n",
              "    (1-2): 2 x MyRNNCell(\n",
              "      (x2h): Linear(in_features=10, out_features=10, bias=True)\n",
              "      (h2h): Linear(in_features=10, out_features=10, bias=True)\n",
              "      (nonlinearity): ReLU()\n",
              "    )\n",
              "  )\n",
              "  (fc): Linear(in_features=10, out_features=12, bias=True)\n",
              ")"
            ]
          },
          "metadata": {},
          "execution_count": 17
        }
      ]
    },
    {
      "cell_type": "code",
      "source": [
        "learning_rate = 0.001\n",
        "criterion = nn.MSELoss()\n",
        "optimizer = torch.optim.Adam(model.parameters(), lr=learning_rate)"
      ],
      "metadata": {
        "id": "C5Uh1w-ceN5a"
      },
      "execution_count": 18,
      "outputs": []
    },
    {
      "cell_type": "code",
      "source": [
        "device = torch.device(\"cuda\" if torch.cuda.is_available() else \"cpu\")"
      ],
      "metadata": {
        "id": "pLG9xPgmcmkg"
      },
      "execution_count": 19,
      "outputs": []
    },
    {
      "cell_type": "code",
      "source": [
        "n_epochs = 5\n",
        "mean_loss = []\n",
        "mean_test_loss = []\n",
        "for it in tqdm(range(n_epochs)):\n",
        "    losses = []\n",
        "    test_losses = []\n",
        "\n",
        "    model.train()\n",
        "    for i_batch, sample_batched in enumerate(dataloader_train):\n",
        "        optimizer.zero_grad()\n",
        "        outputs = model(sample_batched['inputs'].to(device))\n",
        "        loss = criterion(outputs, sample_batched['outputs'].to(device))\n",
        "        losses.append(loss.item())\n",
        "        loss.backward()\n",
        "        optimizer.step()\n",
        "    epoch_mean_loss = np.mean(losses)\n",
        "    mean_loss.append(epoch_mean_loss)\n",
        "\n",
        "    model.eval()\n",
        "    with torch.no_grad():\n",
        "        for sample_batched in dataloader_test:\n",
        "            outputs = model(sample_batched['inputs'].to(device))\n",
        "            test_loss = criterion(outputs, sample_batched['outputs'].to(device))\n",
        "            test_losses.append(test_loss.item())\n",
        "\n",
        "    epoch_mean_test_loss = np.mean(test_losses)\n",
        "    mean_test_loss.append(epoch_mean_test_loss)\n",
        "\n",
        "    print(f'Epoch {it+1}/{n_epochs}, Training Loss: {epoch_mean_loss:.4f}, Test Loss: {epoch_mean_test_loss:.4f}')"
      ],
      "metadata": {
        "colab": {
          "base_uri": "https://localhost:8080/"
        },
        "id": "32FoMOPIZpdr",
        "outputId": "8e8824b5-6385-4fd6-e236-ad1fa228fae6"
      },
      "execution_count": 20,
      "outputs": [
        {
          "output_type": "stream",
          "name": "stderr",
          "text": [
            " 20%|██        | 1/5 [00:41<02:47, 41.88s/it]"
          ]
        },
        {
          "output_type": "stream",
          "name": "stdout",
          "text": [
            "Epoch 1/5, Training Loss: 0.1346, Test Loss: 0.0096\n"
          ]
        },
        {
          "output_type": "stream",
          "name": "stderr",
          "text": [
            "\r 40%|████      | 2/5 [01:23<02:05, 41.70s/it]"
          ]
        },
        {
          "output_type": "stream",
          "name": "stdout",
          "text": [
            "Epoch 2/5, Training Loss: 0.0090, Test Loss: 0.0095\n"
          ]
        },
        {
          "output_type": "stream",
          "name": "stderr",
          "text": [
            "\r 60%|██████    | 3/5 [02:04<01:22, 41.32s/it]"
          ]
        },
        {
          "output_type": "stream",
          "name": "stdout",
          "text": [
            "Epoch 3/5, Training Loss: 0.0086, Test Loss: 0.0091\n"
          ]
        },
        {
          "output_type": "stream",
          "name": "stderr",
          "text": [
            "\r 80%|████████  | 4/5 [02:47<00:41, 41.92s/it]"
          ]
        },
        {
          "output_type": "stream",
          "name": "stdout",
          "text": [
            "Epoch 4/5, Training Loss: 0.0082, Test Loss: 0.0086\n"
          ]
        },
        {
          "output_type": "stream",
          "name": "stderr",
          "text": [
            "100%|██████████| 5/5 [03:31<00:00, 42.27s/it]"
          ]
        },
        {
          "output_type": "stream",
          "name": "stdout",
          "text": [
            "Epoch 5/5, Training Loss: 0.0078, Test Loss: 0.0083\n"
          ]
        },
        {
          "output_type": "stream",
          "name": "stderr",
          "text": [
            "\n"
          ]
        }
      ]
    },
    {
      "cell_type": "code",
      "source": [
        "plt.plot(mean_loss,'k',label='training')\n",
        "plt.plot(mean_test_loss,'r',label='test')\n",
        "plt.legend()\n",
        "plt.show()"
      ],
      "metadata": {
        "colab": {
          "base_uri": "https://localhost:8080/",
          "height": 433
        },
        "id": "rriEyXpOhAiG",
        "outputId": "20b4d530-f178-41c2-da5c-09d74e9bce02"
      },
      "execution_count": 21,
      "outputs": [
        {
          "output_type": "display_data",
          "data": {
            "text/plain": [
              "<Figure size 640x480 with 1 Axes>"
            ],
            "image/png": "[encoded data removed]"
          },
          "metadata": {}
        }
      ]
    },
    {
      "cell_type": "code",
      "source": [
        "results = evaluation(model,dataloader_test,bs)\n",
        "print (results)"
      ],
      "metadata": {
        "colab": {
          "base_uri": "https://localhost:8080/"
        },
        "id": "E1BzlYn5hGg2",
        "outputId": "843d1f37-3867-49c9-f9ff-ccda5c9ce724"
      },
      "execution_count": 22,
      "outputs": [
        {
          "output_type": "stream",
          "name": "stdout",
          "text": [
            "{'mse': 0.008334591287058983, 'mape': 6.968453812126921}\n"
          ]
        }
      ]
    }
  ]
}
